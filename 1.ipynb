{
  "metadata": {
    "kernelspec": {
      "name": "python",
      "display_name": "Python (Pyodide)",
      "language": "python"
    },
    "language_info": {
      "codemirror_mode": {
        "name": "python",
        "version": 3
      },
      "file_extension": ".py",
      "mimetype": "text/x-python",
      "name": "python",
      "nbconvert_exporter": "python",
      "pygments_lexer": "ipython3",
      "version": "3.8"
    }
  },
  "nbformat_minor": 4,
  "nbformat": 4,
  "cells": [
    {
      "cell_type": "markdown",
      "source": "My Jupyter Notebook on IBM Watson Studio\nXiaoci Tao\n\nData Scientist\n\nI am interested in Data Science because I would love to contribute towards affordable and quality healthcare in the future.",
      "metadata": {}
    },
    {
      "cell_type": "code",
      "source": "def say_cheers(recipient):\n    return 'Cheers, from {}!'.format(recipient)\n\nsay_cheers('Germano Costa')",
      "metadata": {
        "trusted": true
      },
      "outputs": [
        {
          "execution_count": 1,
          "output_type": "execute_result",
          "data": {
            "text/plain": "'Cheers, from Germano Costa!'"
          },
          "metadata": {}
        }
      ],
      "execution_count": 1
    },
    {
      "cell_type": "markdown",
      "source": "1.\n2.\n3.",
      "metadata": {}
    }
  ]
}